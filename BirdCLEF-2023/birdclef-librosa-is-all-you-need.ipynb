{
 "cells": [
  {
   "cell_type": "markdown",
   "id": "62e4d0cf",
   "metadata": {
    "papermill": {
     "duration": 0.003766,
     "end_time": "2023-03-07T19:28:40.567513",
     "exception": false,
     "start_time": "2023-03-07T19:28:40.563747",
     "status": "completed"
    },
    "tags": []
   },
   "source": [
    "# Preliminaries"
   ]
  },
  {
   "cell_type": "code",
   "execution_count": null,
   "id": "1889d3e6",
   "metadata": {
    "execution": {
     "iopub.execute_input": "2023-03-07T19:28:40.575753Z",
     "iopub.status.busy": "2023-03-07T19:28:40.575193Z",
     "iopub.status.idle": "2023-03-07T19:28:46.676281Z",
     "shell.execute_reply": "2023-03-07T19:28:46.674676Z"
    },
    "papermill": {
     "duration": 6.109105,
     "end_time": "2023-03-07T19:28:46.679628",
     "exception": false,
     "start_time": "2023-03-07T19:28:40.570523",
     "status": "completed"
    },
    "tags": []
   },
   "outputs": [],
   "source": [
    "#### Basics\n",
    "\n",
    "import os\n",
    "import sklearn\n",
    "import numpy as np \n",
    "import pandas as pd \n",
    "\n",
    "#### PyTorch\n",
    "import torch\n",
    "import torchaudio\n",
    "\n",
    "#### Data Visualization\n",
    "import seaborn as sns\n",
    "import plotly.express as px \n",
    "import IPython.display as ipd \n",
    "import matplotlib.pyplot as plt\n",
    "%matplotlib inline \n",
    "\n",
    "#### Librosa\n",
    "import librosa \n",
    "import librosa.display \n",
    "\n",
    "#### Aesthetics\n",
    "import warnings \n",
    "warnings.filterwarnings(\"ignore\")"
   ]
  },
  {
   "cell_type": "markdown",
   "id": "b65138d6",
   "metadata": {
    "papermill": {
     "duration": 0.002435,
     "end_time": "2023-03-07T19:28:46.684875",
     "exception": false,
     "start_time": "2023-03-07T19:28:46.682440",
     "status": "completed"
    },
    "tags": []
   },
   "source": [
    "# Load Data"
   ]
  },
  {
   "cell_type": "code",
   "execution_count": null,
   "id": "d54d5c63",
   "metadata": {
    "execution": {
     "iopub.execute_input": "2023-03-07T19:28:46.692407Z",
     "iopub.status.busy": "2023-03-07T19:28:46.691517Z",
     "iopub.status.idle": "2023-03-07T19:28:46.844574Z",
     "shell.execute_reply": "2023-03-07T19:28:46.843281Z"
    },
    "papermill": {
     "duration": 0.160785,
     "end_time": "2023-03-07T19:28:46.848196",
     "exception": false,
     "start_time": "2023-03-07T19:28:46.687411",
     "status": "completed"
    },
    "tags": []
   },
   "outputs": [
    {
     "data": {
      "text/html": [
       "<div>\n",
       "<style scoped>\n",
       "    .dataframe tbody tr th:only-of-type {\n",
       "        vertical-align: middle;\n",
       "    }\n",
       "\n",
       "    .dataframe tbody tr th {\n",
       "        vertical-align: top;\n",
       "    }\n",
       "\n",
       "    .dataframe thead th {\n",
       "        text-align: right;\n",
       "    }\n",
       "</style>\n",
       "<table border=\"1\" class=\"dataframe\">\n",
       "  <thead>\n",
       "    <tr style=\"text-align: right;\">\n",
       "      <th></th>\n",
       "      <th>primary_label</th>\n",
       "      <th>secondary_labels</th>\n",
       "      <th>type</th>\n",
       "      <th>latitude</th>\n",
       "      <th>longitude</th>\n",
       "      <th>scientific_name</th>\n",
       "      <th>common_name</th>\n",
       "      <th>author</th>\n",
       "      <th>license</th>\n",
       "      <th>rating</th>\n",
       "      <th>url</th>\n",
       "      <th>filename</th>\n",
       "    </tr>\n",
       "  </thead>\n",
       "  <tbody>\n",
       "    <tr>\n",
       "      <th>0</th>\n",
       "      <td>abethr1</td>\n",
       "      <td>[]</td>\n",
       "      <td>['song']</td>\n",
       "      <td>4.3906</td>\n",
       "      <td>38.2788</td>\n",
       "      <td>Turdus tephronotus</td>\n",
       "      <td>African Bare-eyed Thrush</td>\n",
       "      <td>Rolf A. de By</td>\n",
       "      <td>Creative Commons Attribution-NonCommercial-Sha...</td>\n",
       "      <td>4.0</td>\n",
       "      <td>https://www.xeno-canto.org/128013</td>\n",
       "      <td>abethr1/XC128013.ogg</td>\n",
       "    </tr>\n",
       "    <tr>\n",
       "      <th>1</th>\n",
       "      <td>abethr1</td>\n",
       "      <td>[]</td>\n",
       "      <td>['call']</td>\n",
       "      <td>-2.9524</td>\n",
       "      <td>38.2921</td>\n",
       "      <td>Turdus tephronotus</td>\n",
       "      <td>African Bare-eyed Thrush</td>\n",
       "      <td>James Bradley</td>\n",
       "      <td>Creative Commons Attribution-NonCommercial-Sha...</td>\n",
       "      <td>3.5</td>\n",
       "      <td>https://www.xeno-canto.org/363501</td>\n",
       "      <td>abethr1/XC363501.ogg</td>\n",
       "    </tr>\n",
       "    <tr>\n",
       "      <th>2</th>\n",
       "      <td>abethr1</td>\n",
       "      <td>[]</td>\n",
       "      <td>['song']</td>\n",
       "      <td>-2.9524</td>\n",
       "      <td>38.2921</td>\n",
       "      <td>Turdus tephronotus</td>\n",
       "      <td>African Bare-eyed Thrush</td>\n",
       "      <td>James Bradley</td>\n",
       "      <td>Creative Commons Attribution-NonCommercial-Sha...</td>\n",
       "      <td>3.5</td>\n",
       "      <td>https://www.xeno-canto.org/363502</td>\n",
       "      <td>abethr1/XC363502.ogg</td>\n",
       "    </tr>\n",
       "    <tr>\n",
       "      <th>3</th>\n",
       "      <td>abethr1</td>\n",
       "      <td>[]</td>\n",
       "      <td>['song']</td>\n",
       "      <td>-2.9524</td>\n",
       "      <td>38.2921</td>\n",
       "      <td>Turdus tephronotus</td>\n",
       "      <td>African Bare-eyed Thrush</td>\n",
       "      <td>James Bradley</td>\n",
       "      <td>Creative Commons Attribution-NonCommercial-Sha...</td>\n",
       "      <td>5.0</td>\n",
       "      <td>https://www.xeno-canto.org/363503</td>\n",
       "      <td>abethr1/XC363503.ogg</td>\n",
       "    </tr>\n",
       "    <tr>\n",
       "      <th>4</th>\n",
       "      <td>abethr1</td>\n",
       "      <td>[]</td>\n",
       "      <td>['call', 'song']</td>\n",
       "      <td>-2.9524</td>\n",
       "      <td>38.2921</td>\n",
       "      <td>Turdus tephronotus</td>\n",
       "      <td>African Bare-eyed Thrush</td>\n",
       "      <td>James Bradley</td>\n",
       "      <td>Creative Commons Attribution-NonCommercial-Sha...</td>\n",
       "      <td>4.5</td>\n",
       "      <td>https://www.xeno-canto.org/363504</td>\n",
       "      <td>abethr1/XC363504.ogg</td>\n",
       "    </tr>\n",
       "  </tbody>\n",
       "</table>\n",
       "</div>"
      ],
      "text/plain": [
       "  primary_label secondary_labels              type  latitude  longitude  \\\n",
       "0       abethr1               []          ['song']    4.3906    38.2788   \n",
       "1       abethr1               []          ['call']   -2.9524    38.2921   \n",
       "2       abethr1               []          ['song']   -2.9524    38.2921   \n",
       "3       abethr1               []          ['song']   -2.9524    38.2921   \n",
       "4       abethr1               []  ['call', 'song']   -2.9524    38.2921   \n",
       "\n",
       "      scientific_name               common_name         author  \\\n",
       "0  Turdus tephronotus  African Bare-eyed Thrush  Rolf A. de By   \n",
       "1  Turdus tephronotus  African Bare-eyed Thrush  James Bradley   \n",
       "2  Turdus tephronotus  African Bare-eyed Thrush  James Bradley   \n",
       "3  Turdus tephronotus  African Bare-eyed Thrush  James Bradley   \n",
       "4  Turdus tephronotus  African Bare-eyed Thrush  James Bradley   \n",
       "\n",
       "                                             license  rating  \\\n",
       "0  Creative Commons Attribution-NonCommercial-Sha...     4.0   \n",
       "1  Creative Commons Attribution-NonCommercial-Sha...     3.5   \n",
       "2  Creative Commons Attribution-NonCommercial-Sha...     3.5   \n",
       "3  Creative Commons Attribution-NonCommercial-Sha...     5.0   \n",
       "4  Creative Commons Attribution-NonCommercial-Sha...     4.5   \n",
       "\n",
       "                                 url              filename  \n",
       "0  https://www.xeno-canto.org/128013  abethr1/XC128013.ogg  \n",
       "1  https://www.xeno-canto.org/363501  abethr1/XC363501.ogg  \n",
       "2  https://www.xeno-canto.org/363502  abethr1/XC363502.ogg  \n",
       "3  https://www.xeno-canto.org/363503  abethr1/XC363503.ogg  \n",
       "4  https://www.xeno-canto.org/363504  abethr1/XC363504.ogg  "
      ]
     },
     "execution_count": 2,
     "metadata": {},
     "output_type": "execute_result"
    }
   ],
   "source": [
    "df = pd.read_csv(\"/kaggle/input/birdclef-2023/train_metadata.csv\")\n",
    "df.head()"
   ]
  },
  {
   "cell_type": "code",
   "execution_count": null,
   "id": "4866a621",
   "metadata": {
    "execution": {
     "iopub.execute_input": "2023-03-07T19:28:46.856467Z",
     "iopub.status.busy": "2023-03-07T19:28:46.856072Z",
     "iopub.status.idle": "2023-03-07T19:28:46.869807Z",
     "shell.execute_reply": "2023-03-07T19:28:46.868623Z"
    },
    "papermill": {
     "duration": 0.021403,
     "end_time": "2023-03-07T19:28:46.872739",
     "exception": false,
     "start_time": "2023-03-07T19:28:46.851336",
     "status": "completed"
    },
    "tags": []
   },
   "outputs": [],
   "source": [
    "# Find no. of unique labels\n",
    "\n",
    "df.primary_label.nunique()"
   ]
  },
  {
   "cell_type": "code",
   "execution_count": null,
   "id": "245b490d",
   "metadata": {
    "execution": {
     "iopub.execute_input": "2023-03-07T19:28:46.881170Z",
     "iopub.status.busy": "2023-03-07T19:28:46.880770Z",
     "iopub.status.idle": "2023-03-07T19:28:46.890116Z",
     "shell.execute_reply": "2023-03-07T19:28:46.888826Z"
    },
    "papermill": {
     "duration": 0.016459,
     "end_time": "2023-03-07T19:28:46.892645",
     "exception": false,
     "start_time": "2023-03-07T19:28:46.876186",
     "status": "completed"
    },
    "tags": []
   },
   "outputs": [],
   "source": [
    "df.primary_label.unique()"
   ]
  },
  {
   "cell_type": "code",
   "execution_count": 4,
   "id": "9e26f1a1",
   "metadata": {
    "execution": {
     "iopub.execute_input": "2023-03-07T19:28:46.901031Z",
     "iopub.status.busy": "2023-03-07T19:28:46.900624Z",
     "iopub.status.idle": "2023-03-07T19:28:46.908206Z",
     "shell.execute_reply": "2023-03-07T19:28:46.906847Z"
    },
    "papermill": {
     "duration": 0.015198,
     "end_time": "2023-03-07T19:28:46.911229",
     "exception": false,
     "start_time": "2023-03-07T19:28:46.896031",
     "status": "completed"
    },
    "tags": []
   },
   "outputs": [],
   "source": [
    "def get_audio_sample(df: pd.DataFrame, bird_label: str):\n",
    "    \"\"\"\n",
    "    Function to get the audio sample for a bird using it's label\n",
    "    \n",
    "    Args:\n",
    "        df (pandas.DataFrame): DataFrame with the metadata\n",
    "        birl_label (str): Label of the bird for which audio sample is required\n",
    "    \"\"\"\n",
    "    AUDIO_DIR_PATH = \"/kaggle/input/birdclef-2023/train_audio\"\n",
    "\n",
    "    df['full_path'] = audio_dir_path + '/' + df['primary_label'] + '/' + df['filename']\n",
    "    \n",
    "    return df[df['primary_label'] == bird_label].sample(1, random_state = 42)['full_path'].values[0]"
   ]
  },
  {
   "cell_type": "code",
   "execution_count": null,
   "id": "89aa6154",
   "metadata": {
    "papermill": {
     "duration": 0.003007,
     "end_time": "2023-03-07T19:28:46.917671",
     "exception": false,
     "start_time": "2023-03-07T19:28:46.914664",
     "status": "completed"
    },
    "tags": []
   },
   "outputs": [],
   "source": []
  }
 ],
 "metadata": {
  "kernelspec": {
   "display_name": "Python 3",
   "language": "python",
   "name": "python3"
  },
  "language_info": {
   "codemirror_mode": {
    "name": "ipython",
    "version": 3
   },
   "file_extension": ".py",
   "mimetype": "text/x-python",
   "name": "python",
   "nbconvert_exporter": "python",
   "pygments_lexer": "ipython3",
   "version": "3.8.15"
  },
  "papermill": {
   "default_parameters": {},
   "duration": 17.801254,
   "end_time": "2023-03-07T19:28:48.145630",
   "environment_variables": {},
   "exception": null,
   "input_path": "__notebook__.ipynb",
   "output_path": "__notebook__.ipynb",
   "parameters": {},
   "start_time": "2023-03-07T19:28:30.344376",
   "version": "2.4.0"
  }
 },
 "nbformat": 4,
 "nbformat_minor": 5
}
